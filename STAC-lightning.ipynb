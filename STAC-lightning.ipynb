{
 "cells": [
  {
   "cell_type": "markdown",
   "id": "55f4af3d-8cd7-4a20-9ae7-eba6cf72caaf",
   "metadata": {
    "editable": true,
    "jp-MarkdownHeadingCollapsed": true,
    "slideshow": {
     "slide_type": ""
    },
    "tags": []
   },
   "source": [
    "![Slide reading: If your metadata is not indexed your data does not exist](images/your-data-does-not-exist.png)\n",
    "<div style=\"text-align: right\"> Slide pulled from Matt Hanson's talk on <a href=\"https://docs.google.com/presentation/d/1BWYiOwBVwZfcrSDG7tdA5TmQkz-3DwGElZIzm15NpKQ/edit#slide=id.g127dd1b9487_0_0\">Cloud-Native Geospatial</a></div>\n",
    "\n",
    "\n",
    "# Data Access with STAC <img src=images/e84-logo.png align=\"right\"></img>\n",
    "<div style=\"text-align: right\"> Julia Signell | @jsignell </div>\n",
    "\n",
    "This lightning talk is about a few things:\n",
    "\n",
    "- how specifications let data providers abstract dataset-specific knowledge away from the data consumer (and absorb this burden themselves)\n",
    "- how specifications make it faster to develop new highly-usable tools\n",
    "- how xarray is the best and it's even better if you have STAC"
   ]
  },
  {
   "cell_type": "code",
   "execution_count": null,
   "id": "4490dc44-a5a4-4d21-8c31-0e633f129ad6",
   "metadata": {
    "editable": true,
    "slideshow": {
     "slide_type": ""
    },
    "tags": []
   },
   "outputs": [],
   "source": [
    "import planetary_computer\n",
    "import pystac_client\n",
    "import xarray as xr\n",
    "\n",
    "catalog = pystac_client.Client.open(\n",
    "    \"https://planetarycomputer.microsoft.com/api/stac/v1\",\n",
    "    modifier=planetary_computer.sign_inplace,\n",
    ")"
   ]
  },
  {
   "cell_type": "code",
   "execution_count": null,
   "id": "e858ba71-2d41-4153-ac1d-af655820c32f",
   "metadata": {
    "editable": true,
    "slideshow": {
     "slide_type": ""
    },
    "tags": []
   },
   "outputs": [],
   "source": [
    "collection = catalog.get_collection(\"nasa-nex-gddp-cmip6\")\n",
    "asset = collection.assets[\"ACCESS-CM2.historical\"]\n",
    "asset"
   ]
  },
  {
   "cell_type": "markdown",
   "id": "7657c0ae-4221-4769-a07e-e2e153a7ef15",
   "metadata": {
    "editable": true,
    "slideshow": {
     "slide_type": ""
    },
    "tags": []
   },
   "source": [
    "# What's in there?\n",
    "\n",
    "The STAC metadata contains everything you need to know to read the data.\n",
    "\n",
    " - where it is stored\n",
    " - how it is structured\n",
    " - how you can access it\n",
    "\n",
    "The metadata can be hard to write properly but that is something that you (if you are the data provider) just have to figure out **once**. Once that metadata is written, whenever someone goes to use the data they will have an easier time.\n",
    "\n",
    "In this case we have a reference file because the data has been kerchunked but do I need to know that? Nope."
   ]
  },
  {
   "cell_type": "code",
   "execution_count": null,
   "id": "028a2811-6621-4936-8928-add78b129e00",
   "metadata": {
    "editable": true,
    "slideshow": {
     "slide_type": ""
    },
    "tags": []
   },
   "outputs": [],
   "source": [
    "%%time \n",
    "\n",
    "xr.open_dataset(asset)"
   ]
  },
  {
   "cell_type": "markdown",
   "id": "4504b53a-7357-48b1-8adc-46732b64ebce",
   "metadata": {},
   "source": [
    "Let's do another one."
   ]
  },
  {
   "cell_type": "code",
   "execution_count": null,
   "id": "42673c56-6f43-4107-94fd-90648de7d23b",
   "metadata": {},
   "outputs": [],
   "source": [
    "collection = catalog.get_collection(\"daymet-daily-hi\")\n",
    "asset = collection.assets[\"zarr-abfs\"]\n",
    "asset"
   ]
  },
  {
   "cell_type": "code",
   "execution_count": null,
   "id": "2a6cac34-41cc-4411-abe9-6b82d9abc3f4",
   "metadata": {
    "editable": true,
    "slideshow": {
     "slide_type": ""
    },
    "tags": []
   },
   "outputs": [],
   "source": [
    "%%time\n",
    "\n",
    "xr.open_dataset(asset)"
   ]
  },
  {
   "cell_type": "markdown",
   "id": "fece6511-a77b-424f-ae57-778c5424ac87",
   "metadata": {},
   "source": [
    "What if it's just regular COGs. You can read from a whole bunch of items (scenes) returned by a search:"
   ]
  },
  {
   "cell_type": "code",
   "execution_count": null,
   "id": "d7a55823-58ec-4467-822d-ff6222bffe28",
   "metadata": {
    "editable": true,
    "slideshow": {
     "slide_type": ""
    },
    "tags": []
   },
   "outputs": [],
   "source": [
    "search = catalog.search(\n",
    "    collections=[\"landsat-c2-l2\"], \n",
    "    intersects={\"type\": \"Point\", \"coordinates\": [-97.74, 30.26]},\n",
    "    datetime=\"2022-07-01/2022-08-01\",\n",
    ")"
   ]
  },
  {
   "cell_type": "code",
   "execution_count": null,
   "id": "43906dfd-26ef-4cc7-a58e-008a095a1eca",
   "metadata": {
    "tags": []
   },
   "outputs": [],
   "source": [
    "next(search.items())"
   ]
  },
  {
   "cell_type": "code",
   "execution_count": null,
   "id": "ccaa62a8-6f59-49a3-9274-b0f295ddc016",
   "metadata": {
    "editable": true,
    "slideshow": {
     "slide_type": ""
    },
    "tags": []
   },
   "outputs": [],
   "source": [
    "xr.open_dataset(search, engine=\"stac\")"
   ]
  },
  {
   "cell_type": "markdown",
   "id": "8ec5a7be-6ce1-48ad-a77d-093c316f53c4",
   "metadata": {
    "editable": true,
    "slideshow": {
     "slide_type": ""
    },
    "tags": []
   },
   "source": [
    "This should be feeling boring at this point. _It is supposed to feel boring._ \n",
    "\n",
    "As a data consumer you only need to think about the parts that are interesting from a scientific perspective: \n",
    "> I want to see what Austin looked like last July. "
   ]
  },
  {
   "cell_type": "markdown",
   "id": "494b7af7-e343-4168-b60c-6f6071f0b040",
   "metadata": {
    "editable": true,
    "slideshow": {
     "slide_type": ""
    },
    "tags": []
   },
   "source": [
    "# Separation of responsibilities\n",
    "\n",
    "- The data provider writes STAC metadata\n",
    "- The STAC API takes queries and returns STAC metadata.\n",
    "- The software tools take STAC metadata and return data\n",
    "\n",
    "The data consumers write queries and get data."
   ]
  },
  {
   "cell_type": "markdown",
   "id": "d5dde7db-9d51-4aae-a945-822319c7239b",
   "metadata": {},
   "source": [
    "![](images/separation-of-responsibilities.png)"
   ]
  }
 ],
 "metadata": {
  "kernelspec": {
   "display_name": "Python 3 (ipykernel)",
   "language": "python",
   "name": "python3"
  },
  "language_info": {
   "codemirror_mode": {
    "name": "ipython",
    "version": 3
   },
   "file_extension": ".py",
   "mimetype": "text/x-python",
   "name": "python",
   "nbconvert_exporter": "python",
   "pygments_lexer": "ipython3",
   "version": "3.11.4"
  }
 },
 "nbformat": 4,
 "nbformat_minor": 5
}
