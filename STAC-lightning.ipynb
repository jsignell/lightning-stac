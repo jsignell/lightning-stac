{
 "cells": [
  {
   "cell_type": "markdown",
   "id": "ef49b171-03a1-4293-bdd7-54b6d9c491d2",
   "metadata": {
    "editable": true,
    "jp-MarkdownHeadingCollapsed": true,
    "slideshow": {
     "slide_type": ""
    },
    "tags": []
   },
   "source": [
    "![Slide reading: If your metadata is not indexed your data does not exist](images/your-data-does-not-exist.png)\n",
    "<div style=\"text-align: right\"> Slide pulled from Matt Hanson's talk on <a href=\"https://docs.google.com/presentation/d/1BWYiOwBVwZfcrSDG7tdA5TmQkz-3DwGElZIzm15NpKQ/edit#slide=id.g127dd1b9487_0_0\">Cloud-Native Geospatial</a></div>"
   ]
  },
  {
   "cell_type": "markdown",
   "id": "c40173a1-5f7c-481c-bfd6-36319ddbed05",
   "metadata": {
    "editable": true,
    "jupyter": {
     "source_hidden": true
    },
    "slideshow": {
     "slide_type": ""
    },
    "tags": []
   },
   "source": [
    "# STAC <img src=images/e84-logo.png align=\"right\"></img>\n",
    "<div style=\"text-align: right\"> Julia Signell | @jsignell </div>"
   ]
  },
  {
   "cell_type": "markdown",
   "id": "16b7c9b2-2f5a-4e53-85c4-a11ac28e41c8",
   "metadata": {
    "editable": true,
    "jupyter": {
     "source_hidden": true
    },
    "slideshow": {
     "slide_type": ""
    },
    "tags": []
   },
   "source": [
    "This lightning talk is about a few things:\n",
    "\n",
    "- how catalogs make it easier for people to access data\n",
    "- how specifications make it faster to develop new highly-usable tools\n",
    "- how xarray is the best and it's even better if you have STAC"
   ]
  },
  {
   "cell_type": "markdown",
   "id": "ab125f42-cee1-48b0-a029-57cf0a7c669f",
   "metadata": {
    "jupyter": {
     "source_hidden": true
    },
    "tags": []
   },
   "source": [
    "![Slide showing the directory-like structure of a STAC catalog](images/stac-catalog.png)\n",
    "<div style=\"text-align: right\"> Slide pulled from Matt Hanson's talk on <a href=\"https://docs.google.com/presentation/d/1BWYiOwBVwZfcrSDG7tdA5TmQkz-3DwGElZIzm15NpKQ/edit#slide=id.g127dd1b9487_0_0\">Cloud-Native Geospatial</a></div>"
   ]
  },
  {
   "cell_type": "code",
   "execution_count": null,
   "id": "4490dc44-a5a4-4d21-8c31-0e633f129ad6",
   "metadata": {
    "editable": true,
    "jupyter": {
     "source_hidden": true
    },
    "slideshow": {
     "slide_type": ""
    },
    "tags": []
   },
   "outputs": [],
   "source": [
    "import planetary_computer\n",
    "import pystac_client\n",
    "import xarray as xr\n",
    "\n",
    "catalog = pystac_client.Client.open(\n",
    "    \"https://planetarycomputer.microsoft.com/api/stac/v1\",\n",
    "    modifier=planetary_computer.sign_inplace,\n",
    ")"
   ]
  },
  {
   "cell_type": "code",
   "execution_count": null,
   "id": "e858ba71-2d41-4153-ac1d-af655820c32f",
   "metadata": {
    "editable": true,
    "jupyter": {
     "source_hidden": true
    },
    "slideshow": {
     "slide_type": ""
    },
    "tags": []
   },
   "outputs": [],
   "source": [
    "collection = catalog.get_collection(\"nasa-nex-gddp-cmip6\")\n",
    "asset = collection.assets[\"ACCESS-CM2.historical\"]\n",
    "asset"
   ]
  },
  {
   "cell_type": "markdown",
   "id": "da942688-2d8e-4dc5-b380-f0bb87892fb3",
   "metadata": {
    "editable": true,
    "jupyter": {
     "source_hidden": true
    },
    "slideshow": {
     "slide_type": ""
    },
    "tags": []
   },
   "source": [
    "# What's in there?\n",
    "\n",
    "The STAC metadata contains everything you need to know to read the data.\n",
    "\n",
    " - where it is stored\n",
    " - how it is structured\n",
    " - how you can access it"
   ]
  },
  {
   "cell_type": "markdown",
   "id": "9c945d88-272f-4b6f-afe2-60f1aa215837",
   "metadata": {
    "editable": true,
    "jupyter": {
     "source_hidden": true
    },
    "slideshow": {
     "slide_type": ""
    },
    "tags": []
   },
   "source": [
    "In this case we have a reference file because the data has been kerchunked but do I need to know that? Nope."
   ]
  },
  {
   "cell_type": "code",
   "execution_count": null,
   "id": "028a2811-6621-4936-8928-add78b129e00",
   "metadata": {
    "editable": true,
    "jupyter": {
     "source_hidden": true
    },
    "slideshow": {
     "slide_type": ""
    },
    "tags": []
   },
   "outputs": [],
   "source": [
    "%%time\n",
    "\n",
    "xr.open_dataset(asset)"
   ]
  },
  {
   "cell_type": "markdown",
   "id": "4504b53a-7357-48b1-8adc-46732b64ebce",
   "metadata": {
    "jupyter": {
     "source_hidden": true
    },
    "tags": []
   },
   "source": [
    "Let's do another one."
   ]
  },
  {
   "cell_type": "code",
   "execution_count": null,
   "id": "42673c56-6f43-4107-94fd-90648de7d23b",
   "metadata": {
    "jupyter": {
     "source_hidden": true
    },
    "tags": []
   },
   "outputs": [],
   "source": [
    "collection = catalog.get_collection(\"daymet-daily-hi\")\n",
    "asset = collection.assets[\"zarr-abfs\"]\n",
    "asset"
   ]
  },
  {
   "cell_type": "code",
   "execution_count": null,
   "id": "2a6cac34-41cc-4411-abe9-6b82d9abc3f4",
   "metadata": {
    "editable": true,
    "jupyter": {
     "source_hidden": true
    },
    "slideshow": {
     "slide_type": ""
    },
    "tags": []
   },
   "outputs": [],
   "source": [
    "%%time\n",
    "\n",
    "xr.open_dataset(asset)"
   ]
  },
  {
   "cell_type": "markdown",
   "id": "fece6511-a77b-424f-ae57-778c5424ac87",
   "metadata": {
    "jupyter": {
     "source_hidden": true
    },
    "tags": []
   },
   "source": [
    "What if it's just regular COGs. You can read from a whole bunch of items (scenes) returned by a search:"
   ]
  },
  {
   "cell_type": "code",
   "execution_count": null,
   "id": "d7a55823-58ec-4467-822d-ff6222bffe28",
   "metadata": {
    "editable": true,
    "jupyter": {
     "source_hidden": true
    },
    "slideshow": {
     "slide_type": ""
    },
    "tags": []
   },
   "outputs": [],
   "source": [
    "search = catalog.search(\n",
    "    collections=[\"landsat-c2-l2\"], \n",
    "    intersects={\"type\": \"Point\", \"coordinates\": [-97.74, 30.26]},\n",
    "    datetime=\"2022-07-01/2022-08-01\",\n",
    ")\n",
    "next(search.items())"
   ]
  },
  {
   "cell_type": "code",
   "execution_count": null,
   "id": "ccaa62a8-6f59-49a3-9274-b0f295ddc016",
   "metadata": {
    "editable": true,
    "jupyter": {
     "source_hidden": true
    },
    "slideshow": {
     "slide_type": ""
    },
    "tags": []
   },
   "outputs": [],
   "source": [
    "xr.open_dataset(search, engine=\"stac\")"
   ]
  },
  {
   "cell_type": "markdown",
   "id": "c53378ca-9869-44e7-8a83-3c0ec903225f",
   "metadata": {
    "editable": true,
    "jupyter": {
     "source_hidden": true
    },
    "slideshow": {
     "slide_type": ""
    },
    "tags": []
   },
   "source": [
    "This should be feeling boring at this point. "
   ]
  },
  {
   "cell_type": "markdown",
   "id": "b7808ca2-3044-423f-a31f-50951318c8af",
   "metadata": {
    "editable": true,
    "jupyter": {
     "source_hidden": true
    },
    "slideshow": {
     "slide_type": ""
    },
    "tags": []
   },
   "source": [
    "_It is supposed to feel boring._ "
   ]
  },
  {
   "cell_type": "markdown",
   "id": "069431c7-8966-4a3c-bc34-2e5d6ee16b24",
   "metadata": {
    "editable": true,
    "jupyter": {
     "source_hidden": true
    },
    "slideshow": {
     "slide_type": ""
    },
    "tags": []
   },
   "source": [
    "The interesting part should happen after you have the data."
   ]
  },
  {
   "cell_type": "markdown",
   "id": "494b7af7-e343-4168-b60c-6f6071f0b040",
   "metadata": {
    "editable": true,
    "jupyter": {
     "source_hidden": true
    },
    "slideshow": {
     "slide_type": ""
    },
    "tags": []
   },
   "source": [
    "# Separation of responsibilities"
   ]
  },
  {
   "cell_type": "markdown",
   "id": "d5dde7db-9d51-4aae-a945-822319c7239b",
   "metadata": {
    "jupyter": {
     "source_hidden": true
    },
    "tags": []
   },
   "source": [
    "![](images/separation-of-responsibilities.png)"
   ]
  }
 ],
 "metadata": {
  "kernelspec": {
   "display_name": "Python 3 (ipykernel)",
   "language": "python",
   "name": "python3"
  },
  "language_info": {
   "codemirror_mode": {
    "name": "ipython",
    "version": 3
   },
   "file_extension": ".py",
   "mimetype": "text/x-python",
   "name": "python",
   "nbconvert_exporter": "python",
   "pygments_lexer": "ipython3",
   "version": "3.11.4"
  }
 },
 "nbformat": 4,
 "nbformat_minor": 5
}
